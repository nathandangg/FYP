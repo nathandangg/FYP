{
  "nbformat": 4,
  "nbformat_minor": 0,
  "metadata": {
    "colab": {
      "provenance": []
    },
    "kernelspec": {
      "name": "python3",
      "display_name": "Python 3"
    },
    "language_info": {
      "name": "python"
    }
  },
  "cells": [
    {
      "cell_type": "markdown",
      "source": [
        "## Download Data From Kaggle"
      ],
      "metadata": {
        "id": "DqYesJXyRa1u"
      }
    },
    {
      "cell_type": "code",
      "source": [
        "from google.colab import drive\n",
        "drive.mount('/content/drive')"
      ],
      "metadata": {
        "colab": {
          "base_uri": "https://localhost:8080/",
          "height": 35
        },
        "id": "gRMgApuHu5Oe",
        "outputId": "49d3b2a6-a2d0-484c-f082-66c73f84f87f"
      },
      "execution_count": null,
      "outputs": [
        {
          "output_type": "execute_result",
          "data": {
            "text/plain": [
              "'/content'"
            ],
            "application/vnd.google.colaboratory.intrinsic+json": {
              "type": "string"
            }
          },
          "metadata": {},
          "execution_count": 1
        }
      ]
    },
    {
      "cell_type": "code",
      "execution_count": null,
      "metadata": {
        "id": "Qgi1ERWCsOdl"
      },
      "outputs": [],
      "source": [
        "import os\n",
        "os.getcwd()\n",
        "os.chdir('/content/drive/MyDrive/TTP/ConfigZero')\n",
        "os.environ['KAGGLE_USERNAME'] = \"bqhuy26\" # username from the json file\n",
        "os.environ['KAGGLE_KEY'] = \"f3a6563216ae5ce0488297cb5b2f8d51\" # key from the json fil"
      ]
    },
    {
      "cell_type": "code",
      "source": [
        "!kaggle datasets download -d bqhuy26/gpr-260to339"
      ],
      "metadata": {
        "colab": {
          "base_uri": "https://localhost:8080/"
        },
        "id": "1vJ5Vgu7sRhJ",
        "outputId": "5147e4c1-d32e-48d4-e6af-260495dfecaf"
      },
      "execution_count": null,
      "outputs": [
        {
          "output_type": "stream",
          "name": "stdout",
          "text": [
            "Downloading gpr-260to339.zip to /content/drive/.shortcut-targets-by-id/1Kwn9mAJ0IPUj5sJrWvDJh--zrJMJT8cb/ConfigZero\n",
            " 98% 798M/811M [00:10<00:00, 67.1MB/s]\n",
            "100% 811M/811M [00:10<00:00, 80.6MB/s]\n"
          ]
        }
      ]
    },
    {
      "cell_type": "code",
      "source": [
        "os.chdir('/content/drive/MyDrive/TTP/ConfigZero')"
      ],
      "metadata": {
        "id": "Tj848VPvwVvS"
      },
      "execution_count": null,
      "outputs": []
    },
    {
      "cell_type": "code",
      "source": [
        "!kaggle datasets download -d johntan123/gpr-420-80"
      ],
      "metadata": {
        "colab": {
          "base_uri": "https://localhost:8080/"
        },
        "id": "IAA2X_TmsRew",
        "outputId": "69500eab-7cca-442e-a577-3b66144829c2"
      },
      "execution_count": null,
      "outputs": [
        {
          "output_type": "stream",
          "name": "stdout",
          "text": [
            "Downloading gpr-420-80.zip to /content/drive/.shortcut-targets-by-id/1Kwn9mAJ0IPUj5sJrWvDJh--zrJMJT8cb/ConfigZero\n",
            " 99% 802M/809M [00:11<00:00, 67.6MB/s]\n",
            "100% 809M/809M [00:11<00:00, 72.7MB/s]\n"
          ]
        }
      ]
    },
    {
      "cell_type": "code",
      "source": [
        "!kaggle datasets download -d huybq26/gpr-340-80"
      ],
      "metadata": {
        "colab": {
          "base_uri": "https://localhost:8080/"
        },
        "id": "TuUzbrSNsRcx",
        "outputId": "0623dcb5-183c-409e-ef5a-b49829b4a3d7"
      },
      "execution_count": null,
      "outputs": [
        {
          "output_type": "stream",
          "name": "stdout",
          "text": [
            "Downloading gpr-340-80.zip to /content/drive/.shortcut-targets-by-id/1Kwn9mAJ0IPUj5sJrWvDJh--zrJMJT8cb/ConfigZero\n",
            "100% 808M/810M [00:12<00:00, 67.0MB/s]\n",
            "100% 810M/810M [00:12<00:00, 66.9MB/s]\n"
          ]
        }
      ]
    },
    {
      "cell_type": "markdown",
      "source": [
        "## Unzip and move the files"
      ],
      "metadata": {
        "id": "NeFPYtJu2CWY"
      }
    },
    {
      "cell_type": "code",
      "source": [
        "from google.colab import drive\n",
        "drive.mount('/content/drive')"
      ],
      "metadata": {
        "id": "L567_-rm2CBa"
      },
      "execution_count": null,
      "outputs": []
    },
    {
      "cell_type": "code",
      "source": [
        "import os\n",
        "os.chdir('/content/drive/MyDrive/TTP/ConfigZero')\n"
      ],
      "metadata": {
        "id": "q2VIIehbsRad"
      },
      "execution_count": null,
      "outputs": []
    },
    {
      "cell_type": "code",
      "source": [
        "import zipfile\n",
        "import os\n",
        "import shutil\n",
        "\n",
        "zip_file = 'gpr-420-80.zip'\n",
        "\n",
        "# Path to the zip file\n",
        "zip_file_path = '/content/drive/MyDrive/TTP/ConfigZero/'+zip_file\n",
        "\n",
        "# Path to the destination folder\n",
        "destination_folder_path = '/content/drive/MyDrive/TTP/ConfigZero/output/'\n",
        "\n",
        "# List of source folders inside the extracted content\n",
        "source_folders = ['bscan','cavity_gray', 'cavity_only_gray', 'healthy_gray']\n",
        "\n",
        "# Unzip the zip file\n",
        "with zipfile.ZipFile(zip_file_path, 'r') as zip_ref:\n",
        "    zip_ref.extractall('/content/temp_extracted')\n",
        "\n",
        "# Move the contents of each source folder to the corresponding destination folder\n",
        "for folder in source_folders:\n",
        "    source_folder_path = os.path.join('/content/temp_extracted/FYP/gprMax/Config0/output/', folder)\n",
        "    destination_folder_path_current = os.path.join(destination_folder_path, folder)\n",
        "\n",
        "    # Create the destination folder if it does not exist\n",
        "    if not os.path.exists(destination_folder_path_current):\n",
        "        os.makedirs(destination_folder_path_current)\n",
        "\n",
        "    # Move the contents to the destination folder\n",
        "    for item in os.listdir(source_folder_path):\n",
        "        item_path = os.path.join(source_folder_path, item)\n",
        "        destination_path = os.path.join(destination_folder_path_current, item)\n",
        "        shutil.copy(item_path, destination_path)\n",
        "\n",
        "# Remove the temporary folder\n",
        "shutil.rmtree('/content/temp_extracted')\n"
      ],
      "metadata": {
        "id": "QtCgg6__sRYF"
      },
      "execution_count": null,
      "outputs": []
    },
    {
      "cell_type": "code",
      "source": [],
      "metadata": {
        "id": "mMvuxbscsRVv"
      },
      "execution_count": null,
      "outputs": []
    },
    {
      "cell_type": "markdown",
      "source": [
        "## Zip Config0 folder (run after all done adding/fixing)"
      ],
      "metadata": {
        "id": "i3V5bRatCohn"
      }
    },
    {
      "cell_type": "code",
      "source": [
        "import shutil\n",
        "\n",
        "# Path to the folder you want to zip\n",
        "folder_to_zip = '/content/drive/MyDrive/TTP/ConfigZero'\n",
        "\n",
        "# Path for the zip file to be created\n",
        "zip_file_path = '/content/drive/MyDrive/TTP/ConfigZero'\n",
        "\n",
        "# Zip the folder\n",
        "shutil.make_archive(zip_file_path, 'zip', folder_to_zip)\n"
      ],
      "metadata": {
        "colab": {
          "base_uri": "https://localhost:8080/",
          "height": 35
        },
        "id": "4WCx9cR5sRTi",
        "outputId": "19bb9a8c-6b19-4f97-dfe5-61fb19950c43"
      },
      "execution_count": null,
      "outputs": [
        {
          "output_type": "execute_result",
          "data": {
            "text/plain": [
              "'/content/drive/MyDrive/TTP/ConfigZero.zip.zip'"
            ],
            "application/vnd.google.colaboratory.intrinsic+json": {
              "type": "string"
            }
          },
          "metadata": {},
          "execution_count": 18
        }
      ]
    },
    {
      "cell_type": "code",
      "source": [],
      "metadata": {
        "id": "5WmVkSKPsRQJ"
      },
      "execution_count": null,
      "outputs": []
    }
  ]
}